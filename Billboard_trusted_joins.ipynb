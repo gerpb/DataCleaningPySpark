{
 "cells": [
  {
   "cell_type": "code",
   "execution_count": 0,
   "metadata": {
    "application/vnd.databricks.v1+cell": {
     "cellMetadata": {
      "byteLimit": 2048000,
      "rowLimit": 10000
     },
     "inputWidgets": {},
     "nuid": "1d92a4a1-a356-49ac-9285-db8d84471a73",
     "showTitle": false,
     "title": ""
    }
   },
   "outputs": [],
   "source": [
    "from pyspark.sql import SparkSession\n",
    "from pyspark.sql.types import *\n",
    "import pyspark.sql.functions as f"
   ]
  },
  {
   "cell_type": "markdown",
   "metadata": {
    "application/vnd.databricks.v1+cell": {
     "cellMetadata": {
      "byteLimit": 2048000,
      "rowLimit": 10000
     },
     "inputWidgets": {},
     "nuid": "51d9f4b0-e77a-46b0-9ba7-b92a7876ddc4",
     "showTitle": false,
     "title": ""
    }
   },
   "source": [
    "LINK A LA NOTEBOOK QUE CONTIENE LA INFO DE CONEXION."
   ]
  },
  {
   "cell_type": "code",
   "execution_count": 0,
   "metadata": {
    "application/vnd.databricks.v1+cell": {
     "cellMetadata": {
      "byteLimit": 2048000,
      "rowLimit": 10000
     },
     "inputWidgets": {},
     "nuid": "c989df1b-c8d8-4d7b-9461-40c6e99af0e7",
     "showTitle": false,
     "title": ""
    }
   },
   "outputs": [],
   "source": [
    "%run \"./conexion\""
   ]
  },
  {
   "cell_type": "markdown",
   "metadata": {
    "application/vnd.databricks.v1+cell": {
     "cellMetadata": {
      "byteLimit": 2048000,
      "rowLimit": 10000
     },
     "inputWidgets": {},
     "nuid": "9ce2e822-4876-43c8-b11b-b4ebc554eeac",
     "showTitle": false,
     "title": ""
    }
   },
   "source": [
    "LEVANTO LOS PARQUET."
   ]
  },
  {
   "cell_type": "code",
   "execution_count": 0,
   "metadata": {
    "application/vnd.databricks.v1+cell": {
     "cellMetadata": {
      "byteLimit": 2048000,
      "rowLimit": 10000
     },
     "inputWidgets": {},
     "nuid": "2567a50d-5b42-45c3-a422-8ffc0f1707c5",
     "showTitle": false,
     "title": ""
    }
   },
   "outputs": [],
   "source": [
    "PATH_artistDFTrusted = \"abfss://\"+container+\"@\"+datalake+\".dfs.core.windows.net/trusteddata/Billboard/artistDFTrusted.parquet/\"\n",
    "PATH_hot100Trusted = \"abfss://\"+container+\"@\"+datalake+\".dfs.core.windows.net/trusteddata/Billboard/hot100Trusted.parquet/\"\n",
    "PATH_grammyAlbumsTrusted = \"abfss://\"+container+\"@\"+datalake+\".dfs.core.windows.net/trusteddata/Billboard/grammyAlbumsTrusted.parquet/\"\n",
    "PATH_grammySongTrusted = \"abfss://\"+container+\"@\"+datalake+\".dfs.core.windows.net/trusteddata/Billboard/grammySongsTrusted.parquet/\"\n",
    "PATH_riaaAlbumCertsTrusted = \"abfss://\"+container+\"@\"+datalake+\".dfs.core.windows.net/trusteddata/Billboard/riaaAlbumCertsTrusted.parquet/\"\n",
    "PATH_riaaSingleCertsTrusted = \"abfss://\"+container+\"@\"+datalake+\".dfs.core.windows.net/trusteddata/Billboard/riaaSingleCertsTrusted.parquet/\"\n",
    "PATH_songAttributesTrusted = \"abfss://\"+container+\"@\"+datalake+\".dfs.core.windows.net/trusteddata/Billboard/songAttributesTrusted.parquet/\"\n",
    "PATH_spotifyWeeklyTop200Trusted = \"abfss://\"+container+\"@\"+datalake+\".dfs.core.windows.net/trusteddata/Billboard/spotifyWeeklyTop200Trusted.parquet/\"\n"
   ]
  },
  {
   "cell_type": "code",
   "execution_count": 0,
   "metadata": {
    "application/vnd.databricks.v1+cell": {
     "cellMetadata": {
      "byteLimit": 2048000,
      "rowLimit": 10000
     },
     "inputWidgets": {},
     "nuid": "a0ef5acb-27cb-4359-8edc-961a371d67ab",
     "showTitle": false,
     "title": ""
    }
   },
   "outputs": [],
   "source": [
    "artistDF = spark.read.parquet(PATH_artistDFTrusted)\n",
    "hot100 = spark.read.parquet(PATH_hot100Trusted)\n",
    "grammyAlbums = spark.read.parquet(PATH_grammyAlbumsTrusted)\n",
    "grammySongs = spark.read.parquet(PATH_grammySongTrusted)\n",
    "riaaAlbumCerts = spark.read.parquet(PATH_riaaAlbumCertsTrusted)\n",
    "riaaSingleCerts = spark.read.parquet(PATH_riaaSingleCertsTrusted)\n",
    "songAttributes = spark.read.parquet(PATH_songAttributesTrusted)\n",
    "spotifyWeeklyTop200 = spark.read.parquet(PATH_spotifyWeeklyTop200Trusted)"
   ]
  },
  {
   "cell_type": "markdown",
   "metadata": {
    "application/vnd.databricks.v1+cell": {
     "cellMetadata": {
      "byteLimit": 2048000,
      "rowLimit": 10000
     },
     "inputWidgets": {},
     "nuid": "bde87463-c16d-49e1-92f3-ff88012efc2c",
     "showTitle": false,
     "title": ""
    }
   },
   "source": [
    "CREO LAS VISTAS DE LAS TABLAS PARA MANIPULARLAS CON SQL"
   ]
  },
  {
   "cell_type": "code",
   "execution_count": 0,
   "metadata": {
    "application/vnd.databricks.v1+cell": {
     "cellMetadata": {
      "byteLimit": 2048000,
      "rowLimit": 10000
     },
     "inputWidgets": {},
     "nuid": "7dfcd1f9-7da9-4343-8b2d-d99d836c7356",
     "showTitle": false,
     "title": ""
    }
   },
   "outputs": [],
   "source": [
    "artistDF.createOrReplaceTempView('artistDF')\n",
    "hot100.createOrReplaceTempView('hot100')\n",
    "grammyAlbums.createOrReplaceTempView('grammyAlbums')\n",
    "grammySongs.createOrReplaceTempView('grammySongs')\n",
    "riaaAlbumCerts.createOrReplaceTempView('riaaAlbumCerts')\n",
    "riaaSingleCerts.createOrReplaceTempView('riaaSingleCerts')\n",
    "songAttributes.createOrReplaceTempView('songAttributes')\n",
    "spotifyWeeklyTop200.createOrReplaceTempView('spotifyWeeklyTop200')"
   ]
  },
  {
   "cell_type": "markdown",
   "metadata": {
    "application/vnd.databricks.v1+cell": {
     "cellMetadata": {
      "byteLimit": 2048000,
      "rowLimit": 10000
     },
     "inputWidgets": {},
     "nuid": "b619c4a4-002b-42b5-a4b5-593675ee72de",
     "showTitle": false,
     "title": ""
    }
   },
   "source": [
    "REALIZO UNA VISTA GENERAL DE LAS TABLAS."
   ]
  },
  {
   "cell_type": "code",
   "execution_count": 0,
   "metadata": {
    "application/vnd.databricks.v1+cell": {
     "cellMetadata": {
      "byteLimit": 2048000,
      "rowLimit": 10000
     },
     "inputWidgets": {},
     "nuid": "db7f21a3-f24a-4d6c-8b03-e1d87110f1b5",
     "showTitle": false,
     "title": ""
    }
   },
   "outputs": [
    {
     "output_type": "display_data",
     "data": {
      "text/html": [
       "<style scoped>\n  .table-result-container {\n    max-height: 300px;\n    overflow: auto;\n  }\n  table, th, td {\n    border: 1px solid black;\n    border-collapse: collapse;\n  }\n  th, td {\n    padding: 5px;\n  }\n  th {\n    text-align: left;\n  }\n</style><div class='table-result-container'><table class='table-result'><thead style='background-color: white'><tr><th>ar_Artist</th><th>ar_Followers</th><th>ar_Genre</th><th>ar_NumAlbums</th><th>ar_YearFirstAlbum</th><th>ar_gender</th><th>ar_GroupOrSolo</th></tr></thead><tbody><tr><td>guerilla black</td><td>9506</td><td>west coast rap</td><td>3</td><td>2004</td><td>M</td><td>Solo</td></tr><tr><td>mark ronson</td><td>691165</td><td>dance pop</td><td>5</td><td>2003</td><td>M</td><td>Solo</td></tr><tr><td>lloyd</td><td>1204119</td><td>dance pop</td><td>7</td><td>2004</td><td>M</td><td>Solo</td></tr><tr><td>willie nelson</td><td>945285</td><td>country</td><td>112</td><td>1962</td><td>M</td><td>Solo</td></tr><tr><td>default</td><td>130899</td><td>alternative metal</td><td>5</td><td>2001</td><td>M</td><td>Group</td></tr><tr><td>keke wyatt</td><td>360638</td><td>deep pop r&b</td><td>5</td><td>2001</td><td>F</td><td>Solo</td></tr><tr><td>cody johnson</td><td>235754</td><td>contemporary country</td><td>6</td><td>2009</td><td>M</td><td>Solo</td></tr><tr><td>estelle</td><td>169598</td><td>r&b</td><td>4</td><td>1980</td><td>F</td><td>Solo</td></tr><tr><td>julianne hough</td><td>16132</td><td>contemporary country</td><td>3</td><td>2008</td><td>F</td><td>Solo</td></tr><tr><td>zombie nation</td><td>20829</td><td>german techno</td><td>5</td><td>1999</td><td>M</td><td>Solo</td></tr></tbody></table></div>"
      ]
     },
     "metadata": {
      "application/vnd.databricks.v1+output": {
       "addedWidgets": {},
       "aggData": [],
       "aggError": "",
       "aggOverflow": false,
       "aggSchema": [],
       "aggSeriesLimitReached": false,
       "aggType": "",
       "arguments": {},
       "columnCustomDisplayInfos": {},
       "data": [
        [
         "guerilla black",
         9506,
         "west coast rap",
         3,
         2004,
         "M",
         "Solo"
        ],
        [
         "mark ronson",
         691165,
         "dance pop",
         5,
         2003,
         "M",
         "Solo"
        ],
        [
         "lloyd",
         1204119,
         "dance pop",
         7,
         2004,
         "M",
         "Solo"
        ],
        [
         "willie nelson",
         945285,
         "country",
         112,
         1962,
         "M",
         "Solo"
        ],
        [
         "default",
         130899,
         "alternative metal",
         5,
         2001,
         "M",
         "Group"
        ],
        [
         "keke wyatt",
         360638,
         "deep pop r&b",
         5,
         2001,
         "F",
         "Solo"
        ],
        [
         "cody johnson",
         235754,
         "contemporary country",
         6,
         2009,
         "M",
         "Solo"
        ],
        [
         "estelle",
         169598,
         "r&b",
         4,
         1980,
         "F",
         "Solo"
        ],
        [
         "julianne hough",
         16132,
         "contemporary country",
         3,
         2008,
         "F",
         "Solo"
        ],
        [
         "zombie nation",
         20829,
         "german techno",
         5,
         1999,
         "M",
         "Solo"
        ]
       ],
       "datasetInfos": [],
       "dbfsResultPath": null,
       "isJsonSchema": true,
       "metadata": {},
       "overflow": false,
       "plotOptions": {
        "customPlotOptions": {},
        "displayType": "table",
        "pivotAggregation": null,
        "pivotColumns": null,
        "xColumns": null,
        "yColumns": null
       },
       "removedWidgets": [],
       "schema": [
        {
         "metadata": "{}",
         "name": "ar_Artist",
         "type": "\"string\""
        },
        {
         "metadata": "{}",
         "name": "ar_Followers",
         "type": "\"integer\""
        },
        {
         "metadata": "{}",
         "name": "ar_Genre",
         "type": "\"string\""
        },
        {
         "metadata": "{}",
         "name": "ar_NumAlbums",
         "type": "\"integer\""
        },
        {
         "metadata": "{}",
         "name": "ar_YearFirstAlbum",
         "type": "\"integer\""
        },
        {
         "metadata": "{}",
         "name": "ar_gender",
         "type": "\"string\""
        },
        {
         "metadata": "{}",
         "name": "ar_GroupOrSolo",
         "type": "\"string\""
        }
       ],
       "type": "table"
      }
     },
     "output_type": "display_data"
    }
   ],
   "source": [
    "spark.sql(\"\"\"\n",
    "SELECT *\n",
    "FROM artistDF\n",
    "LIMIT 10\n",
    "\"\"\").display()"
   ]
  },
  {
   "cell_type": "code",
   "execution_count": 0,
   "metadata": {
    "application/vnd.databricks.v1+cell": {
     "cellMetadata": {
      "byteLimit": 2048000,
      "rowLimit": 10000
     },
     "inputWidgets": {},
     "nuid": "09e3b4db-33b8-4d0c-b4ad-eeaf69642abc",
     "showTitle": false,
     "title": ""
    }
   },
   "outputs": [
    {
     "output_type": "display_data",
     "data": {
      "text/html": [
       "<style scoped>\n  .table-result-container {\n    max-height: 300px;\n    overflow: auto;\n  }\n  table, th, td {\n    border: 1px solid black;\n    border-collapse: collapse;\n  }\n  th, td {\n    padding: 5px;\n  }\n  th {\n    text-align: left;\n  }\n</style><div class='table-result-container'><table class='table-result'><thead style='background-color: white'><tr><th>hot_Artist</th><th>hot_Name</th><th>hot_Weeklyrank</th><th>hot_PeakPosition</th><th>hot_WeeksOnChart</th><th>hot_Week</th><th>hot_Date</th><th>hot_Genre</th></tr></thead><tbody><tr><td>michelle branch</td><td>all you wanted</td><td>32</td><td>6.0</td><td>24.0</td><td>2002-07-30</td><td>January 18, 2018</td><td>Pop-Punk,Rock</td></tr><tr><td>joe nichols</td><td>the impossible</td><td>68</td><td>68.0</td><td>9.0</td><td>2002-07-23</td><td>null</td><td>Country</td></tr><tr><td>soluna</td><td>for all time</td><td>72</td><td>72.0</td><td>5.0</td><td>2002-07-16</td><td>null</td><td>En Espa\\xc3\\xb1ol,Pop</td></tr><tr><td>ying yang twins</td><td>say i yi yi</td><td>81</td><td>56.0</td><td>12.0</td><td>2002-07-16</td><td>February 22, 2002</td><td>Dirty South,Rap</td></tr><tr><td>aaliyah</td><td>more than a woman</td><td>48</td><td>25.0</td><td>24.0</td><td>2002-07-09</td><td>July 7, 2001</td><td>Pop,R&;B</td></tr><tr><td>gary allan</td><td>the one</td><td>48</td><td>48.0</td><td>7.0</td><td>2002-06-25</td><td>null</td><td>Country</td></tr><tr><td>hoobastank</td><td>crawling in the dark</td><td>100</td><td>68.0</td><td>18.0</td><td>2002-06-25</td><td>November 20, 2001</td><td>Alternative Rock,Rock</td></tr><tr><td>emerson drive</td><td>i should be sleeping</td><td>71</td><td>71.0</td><td>4.0</td><td>2002-04-02</td><td>null</td><td>Country</td></tr><tr><td>glenn lewis</td><td>don't you forget it</td><td>32</td><td>30.0</td><td>18.0</td><td>2002-03-26</td><td>November 6, 2001</td><td>R&;B,Neo Soul,Soul,Soul Pop,Pop</td></tr><tr><td>default</td><td>wasting my time</td><td>34</td><td>34.0</td><td>13.0</td><td>2002-03-26</td><td>September 25, 2001</td><td>Alternative Rock,Hard Rock,Post-Grunge,Rock</td></tr></tbody></table></div>"
      ]
     },
     "metadata": {
      "application/vnd.databricks.v1+output": {
       "addedWidgets": {},
       "aggData": [],
       "aggError": "",
       "aggOverflow": false,
       "aggSchema": [],
       "aggSeriesLimitReached": false,
       "aggType": "",
       "arguments": {},
       "columnCustomDisplayInfos": {},
       "data": [
        [
         "michelle branch",
         "all you wanted",
         32,
         "6.0",
         "24.0",
         "2002-07-30",
         "January 18, 2018",
         "Pop-Punk,Rock"
        ],
        [
         "joe nichols",
         "the impossible",
         68,
         "68.0",
         "9.0",
         "2002-07-23",
         null,
         "Country"
        ],
        [
         "soluna",
         "for all time",
         72,
         "72.0",
         "5.0",
         "2002-07-16",
         null,
         "En Espa\\xc3\\xb1ol,Pop"
        ],
        [
         "ying yang twins",
         "say i yi yi",
         81,
         "56.0",
         "12.0",
         "2002-07-16",
         "February 22, 2002",
         "Dirty South,Rap"
        ],
        [
         "aaliyah",
         "more than a woman",
         48,
         "25.0",
         "24.0",
         "2002-07-09",
         "July 7, 2001",
         "Pop,R&;B"
        ],
        [
         "gary allan",
         "the one",
         48,
         "48.0",
         "7.0",
         "2002-06-25",
         null,
         "Country"
        ],
        [
         "hoobastank",
         "crawling in the dark",
         100,
         "68.0",
         "18.0",
         "2002-06-25",
         "November 20, 2001",
         "Alternative Rock,Rock"
        ],
        [
         "emerson drive",
         "i should be sleeping",
         71,
         "71.0",
         "4.0",
         "2002-04-02",
         null,
         "Country"
        ],
        [
         "glenn lewis",
         "don't you forget it",
         32,
         "30.0",
         "18.0",
         "2002-03-26",
         "November 6, 2001",
         "R&;B,Neo Soul,Soul,Soul Pop,Pop"
        ],
        [
         "default",
         "wasting my time",
         34,
         "34.0",
         "13.0",
         "2002-03-26",
         "September 25, 2001",
         "Alternative Rock,Hard Rock,Post-Grunge,Rock"
        ]
       ],
       "datasetInfos": [],
       "dbfsResultPath": null,
       "isJsonSchema": true,
       "metadata": {},
       "overflow": false,
       "plotOptions": {
        "customPlotOptions": {},
        "displayType": "table",
        "pivotAggregation": null,
        "pivotColumns": null,
        "xColumns": null,
        "yColumns": null
       },
       "removedWidgets": [],
       "schema": [
        {
         "metadata": "{}",
         "name": "hot_Artist",
         "type": "\"string\""
        },
        {
         "metadata": "{}",
         "name": "hot_Name",
         "type": "\"string\""
        },
        {
         "metadata": "{}",
         "name": "hot_Weeklyrank",
         "type": "\"integer\""
        },
        {
         "metadata": "{}",
         "name": "hot_PeakPosition",
         "type": "\"string\""
        },
        {
         "metadata": "{}",
         "name": "hot_WeeksOnChart",
         "type": "\"string\""
        },
        {
         "metadata": "{}",
         "name": "hot_Week",
         "type": "\"string\""
        },
        {
         "metadata": "{}",
         "name": "hot_Date",
         "type": "\"string\""
        },
        {
         "metadata": "{}",
         "name": "hot_Genre",
         "type": "\"string\""
        }
       ],
       "type": "table"
      }
     },
     "output_type": "display_data"
    }
   ],
   "source": [
    "spark.sql(\"\"\"\n",
    "SELECT * \n",
    "FROM hot100\n",
    "LIMIT 10\n",
    "\"\"\").display()"
   ]
  },
  {
   "cell_type": "code",
   "execution_count": 0,
   "metadata": {
    "application/vnd.databricks.v1+cell": {
     "cellMetadata": {
      "byteLimit": 2048000,
      "rowLimit": 10000
     },
     "inputWidgets": {},
     "nuid": "e8847b40-f309-4de0-9761-3235ffcad1f3",
     "showTitle": false,
     "title": ""
    }
   },
   "outputs": [
    {
     "output_type": "display_data",
     "data": {
      "text/html": [
       "<style scoped>\n  .table-result-container {\n    max-height: 300px;\n    overflow: auto;\n  }\n  table, th, td {\n    border: 1px solid black;\n    border-collapse: collapse;\n  }\n  th, td {\n    padding: 5px;\n  }\n  th {\n    text-align: left;\n  }\n</style><div class='table-result-container'><table class='table-result'><thead style='background-color: white'><tr><th>grama_Award</th><th>grama_GrammyYear</th><th>grama_Genre</th><th>grama_Album</th><th>grama_Artist</th></tr></thead><tbody><tr><td>Best Regional Mexican Music Album (Including Tejano)</td><td>2015</td><td>Latin</td><td>realidades - deluxe edition</td><td>os tigres del norte, produce</td></tr><tr><td>Best Traditional Pop Vocal Album</td><td>2014</td><td>Traditional Pop</td><td>cheek to cheek</td><td>tony bennett</td></tr><tr><td>Best Merengue Album</td><td>2001</td><td>Latin</td><td>yo por tí</td><td>olga tañón</td></tr><tr><td>Best Americana Album</td><td>2016</td><td>American Roots Music</td><td>this is where i live</td><td>william bell</td></tr><tr><td>Best Alternative Music Album</td><td>2015</td><td>Alternative</td><td>sound & color</td><td>labama shakes (zac cockrell, heath fogg, brittany howard & steve johnson) & blake mills, producer</td></tr><tr><td>Best Traditional Gospel Album</td><td>2009</td><td>Gospel/Contemporary Christian Music</td><td>oh happy day</td><td>various artists</td></tr><tr><td>Best Hawaiian Music Album</td><td>2005</td><td>American Roots Music</td><td>masters of hawaiian slack key guitar - vol. 1</td><td>various artists</td></tr><tr><td>Best Classical Album</td><td>2004</td><td>Classical</td><td>adams: on the transmigration of souls</td><td>lorin maazel</td></tr><tr><td>Best Historical Album</td><td>2009</td><td>Historical</td><td>the complete chess masters (1950-1967)</td><td>little walter</td></tr><tr><td>Album Of The Year</td><td>2004</td><td>General</td><td>genius loves company</td><td>ray charles</td></tr></tbody></table></div>"
      ]
     },
     "metadata": {
      "application/vnd.databricks.v1+output": {
       "addedWidgets": {},
       "aggData": [],
       "aggError": "",
       "aggOverflow": false,
       "aggSchema": [],
       "aggSeriesLimitReached": false,
       "aggType": "",
       "arguments": {},
       "columnCustomDisplayInfos": {},
       "data": [
        [
         "Best Regional Mexican Music Album (Including Tejano)",
         2015,
         "Latin",
         "realidades - deluxe edition",
         "os tigres del norte, produce"
        ],
        [
         "Best Traditional Pop Vocal Album",
         2014,
         "Traditional Pop",
         "cheek to cheek",
         "tony bennett"
        ],
        [
         "Best Merengue Album",
         2001,
         "Latin",
         "yo por tí",
         "olga tañón"
        ],
        [
         "Best Americana Album",
         2016,
         "American Roots Music",
         "this is where i live",
         "william bell"
        ],
        [
         "Best Alternative Music Album",
         2015,
         "Alternative",
         "sound & color",
         "labama shakes (zac cockrell, heath fogg, brittany howard & steve johnson) & blake mills, producer"
        ],
        [
         "Best Traditional Gospel Album",
         2009,
         "Gospel/Contemporary Christian Music",
         "oh happy day",
         "various artists"
        ],
        [
         "Best Hawaiian Music Album",
         2005,
         "American Roots Music",
         "masters of hawaiian slack key guitar - vol. 1",
         "various artists"
        ],
        [
         "Best Classical Album",
         2004,
         "Classical",
         "adams: on the transmigration of souls",
         "lorin maazel"
        ],
        [
         "Best Historical Album",
         2009,
         "Historical",
         "the complete chess masters (1950-1967)",
         "little walter"
        ],
        [
         "Album Of The Year",
         2004,
         "General",
         "genius loves company",
         "ray charles"
        ]
       ],
       "datasetInfos": [],
       "dbfsResultPath": null,
       "isJsonSchema": true,
       "metadata": {},
       "overflow": false,
       "plotOptions": {
        "customPlotOptions": {},
        "displayType": "table",
        "pivotAggregation": null,
        "pivotColumns": null,
        "xColumns": null,
        "yColumns": null
       },
       "removedWidgets": [],
       "schema": [
        {
         "metadata": "{}",
         "name": "grama_Award",
         "type": "\"string\""
        },
        {
         "metadata": "{}",
         "name": "grama_GrammyYear",
         "type": "\"integer\""
        },
        {
         "metadata": "{}",
         "name": "grama_Genre",
         "type": "\"string\""
        },
        {
         "metadata": "{}",
         "name": "grama_Album",
         "type": "\"string\""
        },
        {
         "metadata": "{}",
         "name": "grama_Artist",
         "type": "\"string\""
        }
       ],
       "type": "table"
      }
     },
     "output_type": "display_data"
    }
   ],
   "source": [
    "spark.sql(\"\"\"\n",
    "SELECT *\n",
    "FROM grammyALbums\n",
    "LIMIT 10\n",
    "\"\"\").display()"
   ]
  },
  {
   "cell_type": "code",
   "execution_count": 0,
   "metadata": {
    "application/vnd.databricks.v1+cell": {
     "cellMetadata": {
      "byteLimit": 2048000,
      "rowLimit": 10000
     },
     "inputWidgets": {},
     "nuid": "be898250-7c61-4f37-ad90-d75ad9332848",
     "showTitle": false,
     "title": ""
    }
   },
   "outputs": [
    {
     "output_type": "display_data",
     "data": {
      "text/html": [
       "<style scoped>\n  .table-result-container {\n    max-height: 300px;\n    overflow: auto;\n  }\n  table, th, td {\n    border: 1px solid black;\n    border-collapse: collapse;\n  }\n  th, td {\n    padding: 5px;\n  }\n  th {\n    text-align: left;\n  }\n</style><div class='table-result-container'><table class='table-result'><thead style='background-color: white'><tr><th>grams_GrammyAward</th><th>grams_GrammyYear</th><th>grams_Genre</th><th>grams_Name</th><th>grams_Artist</th></tr></thead><tbody><tr><td>Best Female Pop Vocal Performance</td><td>2002</td><td>Pop</td><td>don't know why</td><td>norah jones</td></tr><tr><td>Best Country Song</td><td>2002</td><td>Country</td><td>where were you (when the world stopped turning)</td><td>alan jackson</td></tr><tr><td>Best Improvised Jazz Solo</td><td>2018</td><td>Jazz</td><td>don't fence me in</td><td>john daversa, soloistregina carter, soloistfred hersch, soloistbrad mehldau, soloistmiguel zenón, soloist</td></tr><tr><td>Best Rap Song</td><td>2009</td><td>Rap</td><td>run this town</td><td>jay-z), robyn fenty, kanye west & ernest wilson, songwriters (athanasios alatas, songwriter) (jay-z, rihanna & kanye west</td></tr><tr><td>Best Urban/Alternative Performance</td><td>2004</td><td>R&B</td><td>cross my mind</td><td>jill scott</td></tr><tr><td>Best Country Solo Performance</td><td>2018</td><td>Country</td><td>butterflies</td><td>kacey musgraves</td></tr><tr><td>Best Pop Duo/Group Performance</td><td>2013</td><td>Pop</td><td>get lucky</td><td>daft punk featuring pharrell williams & nile rodgers</td></tr><tr><td>Best Male Rap Solo Performance</td><td>2002</td><td>Rap</td><td>hot in herre</td><td>nelly</td></tr><tr><td>Best American Roots Song</td><td>2016</td><td>American Roots Music</td><td>kid sister</td><td>the time jumpers</td></tr><tr><td>Best Rock Song</td><td>2013</td><td>Rock</td><td>cut me some slack</td><td>null</td></tr></tbody></table></div>"
      ]
     },
     "metadata": {
      "application/vnd.databricks.v1+output": {
       "addedWidgets": {},
       "aggData": [],
       "aggError": "",
       "aggOverflow": false,
       "aggSchema": [],
       "aggSeriesLimitReached": false,
       "aggType": "",
       "arguments": {},
       "columnCustomDisplayInfos": {},
       "data": [
        [
         "Best Female Pop Vocal Performance",
         2002,
         "Pop",
         "don't know why",
         "norah jones"
        ],
        [
         "Best Country Song",
         2002,
         "Country",
         "where were you (when the world stopped turning)",
         "alan jackson"
        ],
        [
         "Best Improvised Jazz Solo",
         2018,
         "Jazz",
         "don't fence me in",
         "john daversa, soloistregina carter, soloistfred hersch, soloistbrad mehldau, soloistmiguel zenón, soloist"
        ],
        [
         "Best Rap Song",
         2009,
         "Rap",
         "run this town",
         "jay-z), robyn fenty, kanye west & ernest wilson, songwriters (athanasios alatas, songwriter) (jay-z, rihanna & kanye west"
        ],
        [
         "Best Urban/Alternative Performance",
         2004,
         "R&B",
         "cross my mind",
         "jill scott"
        ],
        [
         "Best Country Solo Performance",
         2018,
         "Country",
         "butterflies",
         "kacey musgraves"
        ],
        [
         "Best Pop Duo/Group Performance",
         2013,
         "Pop",
         "get lucky",
         "daft punk featuring pharrell williams & nile rodgers"
        ],
        [
         "Best Male Rap Solo Performance",
         2002,
         "Rap",
         "hot in herre",
         "nelly"
        ],
        [
         "Best American Roots Song",
         2016,
         "American Roots Music",
         "kid sister",
         "the time jumpers"
        ],
        [
         "Best Rock Song",
         2013,
         "Rock",
         "cut me some slack",
         null
        ]
       ],
       "datasetInfos": [],
       "dbfsResultPath": null,
       "isJsonSchema": true,
       "metadata": {},
       "overflow": false,
       "plotOptions": {
        "customPlotOptions": {},
        "displayType": "table",
        "pivotAggregation": null,
        "pivotColumns": null,
        "xColumns": null,
        "yColumns": null
       },
       "removedWidgets": [],
       "schema": [
        {
         "metadata": "{}",
         "name": "grams_GrammyAward",
         "type": "\"string\""
        },
        {
         "metadata": "{}",
         "name": "grams_GrammyYear",
         "type": "\"integer\""
        },
        {
         "metadata": "{}",
         "name": "grams_Genre",
         "type": "\"string\""
        },
        {
         "metadata": "{}",
         "name": "grams_Name",
         "type": "\"string\""
        },
        {
         "metadata": "{}",
         "name": "grams_Artist",
         "type": "\"string\""
        }
       ],
       "type": "table"
      }
     },
     "output_type": "display_data"
    }
   ],
   "source": [
    "spark.sql(\"\"\"\n",
    "SELECT *\n",
    "FROM grammySongs\n",
    "LIMIT 10\n",
    "\"\"\").display()"
   ]
  },
  {
   "cell_type": "code",
   "execution_count": 0,
   "metadata": {
    "application/vnd.databricks.v1+cell": {
     "cellMetadata": {
      "byteLimit": 2048000,
      "rowLimit": 10000
     },
     "inputWidgets": {},
     "nuid": "2522e519-d117-4816-bdb4-df5f8cf45e36",
     "showTitle": false,
     "title": ""
    }
   },
   "outputs": [
    {
     "output_type": "display_data",
     "data": {
      "text/html": [
       "<style scoped>\n  .table-result-container {\n    max-height: 300px;\n    overflow: auto;\n  }\n  table, th, td {\n    border: 1px solid black;\n    border-collapse: collapse;\n  }\n  th, td {\n    padding: 5px;\n  }\n  th {\n    text-align: left;\n  }\n</style><div class='table-result-container'><table class='table-result'><thead style='background-color: white'><tr><th>riaaA_Album</th><th>riaaA_Artist</th><th>riaaA_Status</th><th>riaaA_Label</th></tr></thead><tbody><tr><td>bionic</td><td>christina aguilera</td><td>Gold</td><td> rca</td></tr><tr><td>artist of the century</td><td>elvis presley</td><td>Gold</td><td> rca records</td></tr><tr><td>finally famous</td><td>big sean</td><td>1x Platinum</td><td> def jam recordings</td></tr><tr><td>three cheers for sweet revenge</td><td>my chemical romance</td><td>3x Multi-Platinum</td><td> reprise</td></tr><tr><td>welcome to the new</td><td>mercyme</td><td>Gold</td><td> fair trade services</td></tr><tr><td>siren song of the counter cult</td><td>rise against</td><td>Gold</td><td> geffen</td></tr><tr><td>revelations</td><td>audioslave</td><td>Gold</td><td> epic</td></tr><tr><td>two lefts don't make a right…but three do</td><td>relient k</td><td>Gold</td><td> gotee records</td></tr><tr><td>metamorphosis</td><td>hilary duff</td><td>3x Multi-Platinum</td><td> walt disney</td></tr><tr><td>hotel paper</td><td>michelle branch</td><td>1x Platinum</td><td> maverick</td></tr></tbody></table></div>"
      ]
     },
     "metadata": {
      "application/vnd.databricks.v1+output": {
       "addedWidgets": {},
       "aggData": [],
       "aggError": "",
       "aggOverflow": false,
       "aggSchema": [],
       "aggSeriesLimitReached": false,
       "aggType": "",
       "arguments": {},
       "columnCustomDisplayInfos": {},
       "data": [
        [
         "bionic",
         "christina aguilera",
         "Gold",
         " rca"
        ],
        [
         "artist of the century",
         "elvis presley",
         "Gold",
         " rca records"
        ],
        [
         "finally famous",
         "big sean",
         "1x Platinum",
         " def jam recordings"
        ],
        [
         "three cheers for sweet revenge",
         "my chemical romance",
         "3x Multi-Platinum",
         " reprise"
        ],
        [
         "welcome to the new",
         "mercyme",
         "Gold",
         " fair trade services"
        ],
        [
         "siren song of the counter cult",
         "rise against",
         "Gold",
         " geffen"
        ],
        [
         "revelations",
         "audioslave",
         "Gold",
         " epic"
        ],
        [
         "two lefts don't make a right…but three do",
         "relient k",
         "Gold",
         " gotee records"
        ],
        [
         "metamorphosis",
         "hilary duff",
         "3x Multi-Platinum",
         " walt disney"
        ],
        [
         "hotel paper",
         "michelle branch",
         "1x Platinum",
         " maverick"
        ]
       ],
       "datasetInfos": [],
       "dbfsResultPath": null,
       "isJsonSchema": true,
       "metadata": {},
       "overflow": false,
       "plotOptions": {
        "customPlotOptions": {},
        "displayType": "table",
        "pivotAggregation": null,
        "pivotColumns": null,
        "xColumns": null,
        "yColumns": null
       },
       "removedWidgets": [],
       "schema": [
        {
         "metadata": "{}",
         "name": "riaaA_Album",
         "type": "\"string\""
        },
        {
         "metadata": "{}",
         "name": "riaaA_Artist",
         "type": "\"string\""
        },
        {
         "metadata": "{}",
         "name": "riaaA_Status",
         "type": "\"string\""
        },
        {
         "metadata": "{}",
         "name": "riaaA_Label",
         "type": "\"string\""
        }
       ],
       "type": "table"
      }
     },
     "output_type": "display_data"
    }
   ],
   "source": [
    "spark.sql(\"\"\"\n",
    "SELECT *\n",
    "FROM riaaAlbumCerts\n",
    "LIMIT 10\n",
    "\"\"\").display()"
   ]
  },
  {
   "cell_type": "code",
   "execution_count": 0,
   "metadata": {
    "application/vnd.databricks.v1+cell": {
     "cellMetadata": {
      "byteLimit": 2048000,
      "rowLimit": 10000
     },
     "inputWidgets": {},
     "nuid": "49f374ac-a559-4c91-b8a0-914efbefbef6",
     "showTitle": false,
     "title": ""
    }
   },
   "outputs": [
    {
     "output_type": "display_data",
     "data": {
      "text/html": [
       "<style scoped>\n  .table-result-container {\n    max-height: 300px;\n    overflow: auto;\n  }\n  table, th, td {\n    border: 1px solid black;\n    border-collapse: collapse;\n  }\n  th, td {\n    padding: 5px;\n  }\n  th {\n    text-align: left;\n  }\n</style><div class='table-result-container'><table class='table-result'><thead style='background-color: white'><tr><th>riaaS_Name</th><th>riaaS_Artist</th><th>riaaS_RiaaStatus</th><th>riaaS_Label</th></tr></thead><tbody><tr><td>headlights</td><td>eminem</td><td>1x Platinum</td><td>Shady </td></tr><tr><td>like a cowboy</td><td>randy houser</td><td>Gold</td><td>Stoney Creek Records</td></tr><tr><td>e.t.</td><td>katy perry</td><td>8x Multi-Platinum</td><td>Capitol Records</td></tr><tr><td>better than i used to be</td><td>tim mcgraw</td><td>Gold</td><td>Curb Records</td></tr><tr><td>don't stop believin'</td><td>glee cast</td><td>1x Platinum</td><td>Columbia</td></tr><tr><td>ass like that</td><td>eminem</td><td>1x Platinum</td><td>Shady </td></tr><tr><td>boyfriend</td><td>justin bieber</td><td>6x Multi-Platinum</td><td>Def Jam</td></tr><tr><td>ol' red</td><td>blake shelton</td><td>1x Platinum</td><td>Warner Bros.</td></tr><tr><td>the edge of glory</td><td>lady gaga</td><td>3x Multi-Platinum</td><td>Streamline  </td></tr><tr><td>country boy feat. george jones & charlie daniels</td><td>aaron lewis</td><td>1x Platinum</td><td>R&j Records</td></tr></tbody></table></div>"
      ]
     },
     "metadata": {
      "application/vnd.databricks.v1+output": {
       "addedWidgets": {},
       "aggData": [],
       "aggError": "",
       "aggOverflow": false,
       "aggSchema": [],
       "aggSeriesLimitReached": false,
       "aggType": "",
       "arguments": {},
       "columnCustomDisplayInfos": {},
       "data": [
        [
         "headlights",
         "eminem",
         "1x Platinum",
         "Shady "
        ],
        [
         "like a cowboy",
         "randy houser",
         "Gold",
         "Stoney Creek Records"
        ],
        [
         "e.t.",
         "katy perry",
         "8x Multi-Platinum",
         "Capitol Records"
        ],
        [
         "better than i used to be",
         "tim mcgraw",
         "Gold",
         "Curb Records"
        ],
        [
         "don't stop believin'",
         "glee cast",
         "1x Platinum",
         "Columbia"
        ],
        [
         "ass like that",
         "eminem",
         "1x Platinum",
         "Shady "
        ],
        [
         "boyfriend",
         "justin bieber",
         "6x Multi-Platinum",
         "Def Jam"
        ],
        [
         "ol' red",
         "blake shelton",
         "1x Platinum",
         "Warner Bros."
        ],
        [
         "the edge of glory",
         "lady gaga",
         "3x Multi-Platinum",
         "Streamline  "
        ],
        [
         "country boy feat. george jones & charlie daniels",
         "aaron lewis",
         "1x Platinum",
         "R&j Records"
        ]
       ],
       "datasetInfos": [],
       "dbfsResultPath": null,
       "isJsonSchema": true,
       "metadata": {},
       "overflow": false,
       "plotOptions": {
        "customPlotOptions": {},
        "displayType": "table",
        "pivotAggregation": null,
        "pivotColumns": null,
        "xColumns": null,
        "yColumns": null
       },
       "removedWidgets": [],
       "schema": [
        {
         "metadata": "{}",
         "name": "riaaS_Name",
         "type": "\"string\""
        },
        {
         "metadata": "{}",
         "name": "riaaS_Artist",
         "type": "\"string\""
        },
        {
         "metadata": "{}",
         "name": "riaaS_RiaaStatus",
         "type": "\"string\""
        },
        {
         "metadata": "{}",
         "name": "riaaS_Label",
         "type": "\"string\""
        }
       ],
       "type": "table"
      }
     },
     "output_type": "display_data"
    }
   ],
   "source": [
    "spark.sql(\"\"\"\n",
    "SELECT *\n",
    "FROM riaaSingleCerts\n",
    "LIMIT 10\n",
    "\"\"\").display()"
   ]
  },
  {
   "cell_type": "code",
   "execution_count": 0,
   "metadata": {
    "application/vnd.databricks.v1+cell": {
     "cellMetadata": {
      "byteLimit": 2048000,
      "rowLimit": 10000
     },
     "inputWidgets": {},
     "nuid": "57aa6b62-8453-4978-984d-69b88ba9533d",
     "showTitle": false,
     "title": ""
    }
   },
   "outputs": [
    {
     "output_type": "display_data",
     "data": {
      "text/html": [
       "<style scoped>\n  .table-result-container {\n    max-height: 300px;\n    overflow: auto;\n  }\n  table, th, td {\n    border: 1px solid black;\n    border-collapse: collapse;\n  }\n  th, td {\n    padding: 5px;\n  }\n  th {\n    text-align: left;\n  }\n</style><div class='table-result-container'><table class='table-result'><thead style='background-color: white'><tr><th>song_Album</th><th>song_Artist</th><th>song_Duration</th><th>song_Explicit</th><th>song_Loudness</th><th>song_Name</th><th>song_Popularity</th><th>song_Tempo</th></tr></thead><tbody><tr><td>Elvis for Everyone!</td><td>elvis presley</td><td>109987</td><td>False</td><td>-10.0</td><td>when it rains, it really pours</td><td>24</td><td>83.0</td></tr><tr><td>See What You Started By Continuing</td><td>collective soul</td><td>201573</td><td>False</td><td>-5.0</td><td>tradition</td><td>18</td><td>102.0</td></tr><tr><td>Elvis In Concert</td><td>elvis presley</td><td>268733</td><td>False</td><td>-16.0</td><td>o sole mio/it's now or never - live</td><td>22</td><td>143.0</td></tr><tr><td>Elvis' Christmas Album</td><td>elvis presley</td><td>125827</td><td>False</td><td>-16.0</td><td>i believe</td><td>33</td><td>97.0</td></tr><tr><td>Elvis' Gold Records, Vol. 4</td><td>elvis presley</td><td>142507</td><td>False</td><td>-12.0</td><td>witchcraft</td><td>27</td><td>100.0</td></tr><tr><td>Performs New Kids On the Block</td><td>jordan knight</td><td>252520</td><td>False</td><td>-6.0</td><td>tonight</td><td>5</td><td>102.0</td></tr><tr><td>Sings NKOTB</td><td>jordan knight</td><td>227027</td><td>False</td><td>-6.0</td><td>didn't i (blow your mind)</td><td>9</td><td>138.0</td></tr><tr><td>Dwight's Used Records</td><td>dwight yoakam</td><td>224253</td><td>False</td><td>-4.0</td><td>loco motion</td><td>18</td><td>91.0</td></tr><tr><td>Girl Happy</td><td>elvis presley</td><td>115480</td><td>False</td><td>-11.0</td><td>the meanest girl in town</td><td>19</td><td>88.0</td></tr><tr><td>Something for Everybody</td><td>elvis presley</td><td>152347</td><td>False</td><td>-14.0</td><td>sentimental me</td><td>27</td><td>80.0</td></tr><tr><td>Something for Everybody</td><td>elvis presley</td><td>125040</td><td>False</td><td>-17.0</td><td>starting today</td><td>22</td><td>74.0</td></tr><tr><td>Spinout</td><td>elvis presley</td><td>111280</td><td>False</td><td>-8.0</td><td>never say yes</td><td>15</td><td>124.0</td></tr><tr><td>Cheek To Cheek (Deluxe)</td><td>tony bennett</td><td>170547</td><td>False</td><td>-8.0</td><td>cheek to cheek</td><td>18</td><td>94.0</td></tr><tr><td>A Wonderful World</td><td>tony bennett</td><td>226867</td><td>False</td><td>-14.0</td><td>i wonder</td><td>21</td><td>93.0</td></tr><tr><td>Among My Souvenirs (More Treasures From The Crosby Archive)</td><td>bing crosby</td><td>133907</td><td>False</td><td>-20.0</td><td>among my souvenirs</td><td>13</td><td>103.0</td></tr><tr><td>Savage Life 3</td><td>webbie</td><td>239053</td><td>True</td><td>-6.0</td><td>i been here</td><td>25</td><td>156.0</td></tr><tr><td>Boyz N Da Hood</td><td>boyz n da hood</td><td>264080</td><td>False</td><td>-5.0</td><td>p***y m.f.'s</td><td>4</td><td>160.0</td></tr><tr><td>Bing Crosby - Christmas Classics</td><td>bing crosby</td><td>170560</td><td>False</td><td>-15.0</td><td>have yourself a merry little christmas - remastered 2006</td><td>41</td><td>93.0</td></tr><tr><td>Lost And Found</td><td>will smith</td><td>225067</td><td>False</td><td>-6.0</td><td>switch - main r&b remix</td><td>19</td><td>102.0</td></tr><tr><td>Deja la Vida Volar - En Gira (En Vivo)</td><td>mercedes</td><td>341747</td><td>False</td><td>-14.0</td><td>piedra y camino - en vivo</td><td>13</td><td>120.0</td></tr><tr><td>Lucerito</td><td>mercedes</td><td>243267</td><td>False</td><td>-9.0</td><td>himno de mi corazón</td><td>20</td><td>94.0</td></tr><tr><td>Bing's Gold Records - The Original Decca Recordings</td><td>bing crosby</td><td>162933</td><td>False</td><td>-13.0</td><td>silent night - 1942 single version</td><td>1</td><td>79.0</td></tr><tr><td>Crazy Hits</td><td>crazy frog</td><td>175229</td><td>False</td><td>-5.0</td><td>1001 nights</td><td>40</td><td>101.0</td></tr><tr><td>Y'all Know What This Is...The Hits</td><td>jermaine dupri</td><td>231067</td><td>True</td><td>-8.0</td><td>pullin' me back</td><td>14</td><td>80.0</td></tr><tr><td>Welcome to Jamrock</td><td>\"damian \"\"jr. gong\"\" marley\"</td><td>329107</td><td>False</td><td>-7.0</td><td>confrontation</td><td>27</td><td>111.0</td></tr><tr><td>My Home's In Alabama</td><td>alabama</td><td>135467</td><td>False</td><td>-8.0</td><td>hanging up my travelin' shoes</td><td>12</td><td>115.0</td></tr><tr><td>My Home's In Alabama</td><td>alabama</td><td>193600</td><td>False</td><td>-14.0</td><td>getting over you</td><td>13</td><td>86.0</td></tr><tr><td>Serenata Para La Tierra De Uno</td><td>mercedes</td><td>191280</td><td>False</td><td>-14.0</td><td>pueblos tristes</td><td>14</td><td>112.0</td></tr><tr><td>Saturday Live, Vol. 1</td><td>hugh laurie</td><td>319160</td><td>False</td><td>-19.0</td><td>chocolate goodies</td><td>16</td><td>125.0</td></tr><tr><td>Franz Ferdinand</td><td>franz ferdinand</td><td>204267</td><td>False</td><td>-9.0</td><td>40'</td><td>41</td><td>104.0</td></tr><tr><td>G Pass (Hosted by DJ Show)</td><td>jt money</td><td>92552</td><td>True</td><td>-15.0</td><td>intro (feat. dj show)</td><td>0</td><td>87.0</td></tr><tr><td>Tony Makes It Happen!</td><td>tony bennett</td><td>193693</td><td>False</td><td>-13.0</td><td>she's funny that way - 2011 remaster</td><td>2</td><td>96.0</td></tr><tr><td>Who Can I Turn To</td><td>tony bennett</td><td>189627</td><td>False</td><td>-13.0</td><td>i've never seen (feat. the ralph sharon trio)</td><td>4</td><td>105.0</td></tr><tr><td>Lost At Sea 2</td><td>birdman</td><td>173293</td><td>True</td><td>-6.0</td><td>go harder</td><td>36</td><td>135.0</td></tr><tr><td>Sounds of the Universe (Deluxe)</td><td>depeche mode</td><td>386667</td><td>False</td><td>-7.0</td><td>ghost</td><td>31</td><td>107.0</td></tr><tr><td>Milk Me</td><td>the beatnuts</td><td>38667</td><td>False</td><td>-7.0</td><td>intro</td><td>11</td><td>100.0</td></tr><tr><td>Playing The Angel (U.S. Release)</td><td>depeche mode</td><td>207733</td><td>False</td><td>-8.0</td><td>damaged people</td><td>27</td><td>144.0</td></tr><tr><td>That Christmas Feeling</td><td>bing crosby</td><td>174800</td><td>False</td><td>-15.0</td><td>the christmas song</td><td>0</td><td>170.0</td></tr><tr><td>Angels Among Us: Hymns & Gospel Favorites</td><td>alabama</td><td>228453</td><td>False</td><td>-9.0</td><td>church in the wildwood</td><td>32</td><td>95.0</td></tr><tr><td>The Definitive Collection</td><td>bing crosby</td><td>176493</td><td>False</td><td>-15.0</td><td>around the world (in eighty days) - single version</td><td>4</td><td>82.0</td></tr><tr><td>Lost Whispers</td><td>evanescence</td><td>255721</td><td>False</td><td>-6.0</td><td>missing</td><td>43</td><td>175.0</td></tr><tr><td>American Christmas</td><td>alabama</td><td>216587</td><td>False</td><td>-6.0</td><td>christmas in dixie - unplugged</td><td>14</td><td>170.0</td></tr><tr><td>NATIVE TONGUE</td><td>switchfoot</td><td>254627</td><td>False</td><td>-6.0</td><td>oxygen</td><td>40</td><td>104.0</td></tr><tr><td>Nothing Is Sound</td><td>switchfoot</td><td>208587</td><td>False</td><td>-4.0</td><td>politicians</td><td>0</td><td>153.0</td></tr><tr><td>Thank God For Friday</td><td>neal mccoy</td><td>196520</td><td>False</td><td>-17.0</td><td>wherever you are</td><td>1</td><td>111.0</td></tr><tr><td>Modern Minds and Pastimes (SE Asia Version)</td><td>the click five</td><td>221933</td><td>False</td><td>-3.0</td><td>headlight disco</td><td>19</td><td>122.0</td></tr><tr><td>One On One</td><td>trick</td><td>156053</td><td>False</td><td>-12.0</td><td>love's got a hold on me</td><td>0</td><td>148.0</td></tr><tr><td>The Notorious Kim</td><td>lil' kim</td><td>152493</td><td>True</td><td>-4.0</td><td>right now (feat. carl thomas)</td><td>23</td><td>112.0</td></tr><tr><td>Serie 32: Cristian Castro</td><td>cristian castro</td><td>247387</td><td>False</td><td>-7.0</td><td>mañana</td><td>28</td><td>82.0</td></tr><tr><td>Too Cool To Care (Squeaky Clean)</td><td>new boyz</td><td>234720</td><td>False</td><td>-5.0</td><td>i don't care (feat. big sean)</td><td>19</td><td>148.0</td></tr><tr><td>Some Mad Hope</td><td>matt nathanson</td><td>208093</td><td>False</td><td>-4.0</td><td>falling apart</td><td>29</td><td>142.0</td></tr><tr><td>Some Mad Hope</td><td>matt nathanson</td><td>269840</td><td>False</td><td>-6.0</td><td>sooner surrender</td><td>27</td><td>168.0</td></tr><tr><td>Still Waiting For Spring</td><td>matt nathanson</td><td>224733</td><td>False</td><td>-12.0</td><td>loud</td><td>21</td><td>115.0</td></tr><tr><td>Priceless</td><td>frankie j</td><td>259627</td><td>False</td><td>-6.0</td><td>never let you down</td><td>30</td><td>135.0</td></tr><tr><td>Prince of the South & ATL's Finest (Deluxe Edition)</td><td>youngbloodz</td><td>267360</td><td>True</td><td>-6.0</td><td>the world is mine (feat. lil' flip)</td><td>4</td><td>149.0</td></tr><tr><td>Far From Over</td><td>edwin mccain</td><td>277627</td><td>False</td><td>-6.0</td><td>i've seen a love</td><td>17</td><td>156.0</td></tr><tr><td>Hypnotize</td><td>system of a down</td><td>220267</td><td>False</td><td>-2.0</td><td>soldier side</td><td>30</td><td>153.0</td></tr><tr><td>Glitch</td><td>roscoe dash</td><td>206263</td><td>False</td><td>-6.0</td><td>whassup (nye) [feat. waka flocka]</td><td>13</td><td>142.0</td></tr><tr><td>Da Baddest B***h</td><td>trina</td><td>194493</td><td>True</td><td>-7.0</td><td>if u with me (feat. mystic of the lost tribe)</td><td>21</td><td>110.0</td></tr><tr><td>Fallen Empires</td><td>snow patrol</td><td>297682</td><td>False</td><td>-6.0</td><td>this isn't everything you are</td><td>47</td><td>89.0</td></tr><tr><td>For Unlawful Carnal Knowledge</td><td>van halen</td><td>303867</td><td>False</td><td>-8.0</td><td>man on a mission</td><td>24</td><td>96.0</td></tr><tr><td>Live in the Windy City (Live 1989)</td><td>melissa etheridge</td><td>981408</td><td>False</td><td>-13.0</td><td>let's get it on / like the way i do</td><td>10</td><td>106.0</td></tr><tr><td>Circles</td><td>p.o.d.</td><td>241813</td><td>False</td><td>-5.0</td><td>home</td><td>32</td><td>140.0</td></tr><tr><td>Satellite (U.S. Version WEA Distribution)</td><td>p.o.d.</td><td>256240</td><td>False</td><td>-8.0</td><td>youth of the nation</td><td>72</td><td>98.0</td></tr><tr><td>Testify</td><td>p.o.d.</td><td>282627</td><td>False</td><td>-4.0</td><td>roots in stereo</td><td>34</td><td>163.0</td></tr><tr><td>Vexillology</td><td>deadmau5</td><td>450000</td><td>False</td><td>-10.0</td><td>plus - original mix</td><td>19</td><td>128.0</td></tr><tr><td>where's the drop?</td><td>deadmau5</td><td>472000</td><td>False</td><td>-10.0</td><td>coelacanth - ov</td><td>36</td><td>67.0</td></tr><tr><td>One Hell Of A Ride</td><td>willie nelson</td><td>163707</td><td>False</td><td>-12.0</td><td>it should be easier now</td><td>7</td><td>76.0</td></tr><tr><td>Setlist: The Very Of Willie Nelson LIVE</td><td>willie nelson</td><td>108040</td><td>False</td><td>-11.0</td><td>crazy - live at harrah's casino, lake tahoe, nv - april 1978</td><td>5</td><td>73.0</td></tr><tr><td>Reckless</td><td>martina mcbride</td><td>253933</td><td>False</td><td>-7.0</td><td>we'll pick up where we left off</td><td>18</td><td>82.0</td></tr><tr><td>Breathless</td><td>kenny g</td><td>300467</td><td>False</td><td>-16.0</td><td>in the rain</td><td>45</td><td>120.0</td></tr><tr><td>Texas In My Soul</td><td>willie nelson</td><td>150440</td><td>False</td><td>-9.0</td><td>san antonio</td><td>13</td><td>111.0</td></tr><tr><td>The Early Years</td><td>willie nelson</td><td>147173</td><td>False</td><td>-13.0</td><td>half a man</td><td>10</td><td>75.0</td></tr><tr><td>Namaste</td><td>kenny g</td><td>329520</td><td>False</td><td>-8.0</td><td>brhama-vishnu-shiva</td><td>24</td><td>144.0</td></tr><tr><td>The Party's Over</td><td>willie nelson</td><td>131787</td><td>False</td><td>-8.0</td><td>a moment isn't very long</td><td>9</td><td>120.0</td></tr><tr><td>Fireworks</td><td>jose feliciano</td><td>271467</td><td>False</td><td>-14.0</td><td>norwegian wood - instrumental</td><td>2</td><td>109.0</td></tr><tr><td>The Essential Kenny G 3.0</td><td>kenny g</td><td>233787</td><td>False</td><td>-11.0</td><td>it had to be you</td><td>21</td><td>120.0</td></tr><tr><td>Shine</td><td>estelle</td><td>220827</td><td>False</td><td>-16.0</td><td>come over - cry tuff council remix</td><td>14</td><td>164.0</td></tr><tr><td>Ultimate Kenny G</td><td>kenny g</td><td>261453</td><td>False</td><td>-6.0</td><td>\"my heart will go on (love theme from \"\"titanic\"\")\"</td><td>29</td><td>106.0</td></tr><tr><td>Live at the Troubadour Festival 1995</td><td>jose feliciano</td><td>343547</td><td>False</td><td>-14.0</td><td>just the two of us</td><td>13</td><td>97.0</td></tr><tr><td>My Name Is José Feliciano</td><td>jose feliciano</td><td>226773</td><td>False</td><td>-12.0</td><td>daytime dreams</td><td>2</td><td>80.0</td></tr><tr><td>Me Enamore</td><td>jose feliciano</td><td>268507</td><td>False</td><td>-13.0</td><td>el condor pasa</td><td>7</td><td>126.0</td></tr><tr><td>Ladies And Gentlemen</td><td>lou bega</td><td>210933</td><td>False</td><td>-6.0</td><td>you are my sunshine</td><td>0</td><td>123.0</td></tr><tr><td>Yesterday's Wine</td><td>willie nelson</td><td>136960</td><td>False</td><td>-17.0</td><td>december day</td><td>15</td><td>153.0</td></tr><tr><td>Home of the Strange</td><td>young the giant</td><td>220813</td><td>False</td><td>-4.0</td><td>jungle youth</td><td>46</td><td>156.0</td></tr><tr><td>When The Sun Goes Down (Deluxe Edition)</td><td>the scene</td><td>194707</td><td>False</td><td>-4.0</td><td>dices (who says - spanish version)</td><td>9</td><td>101.0</td></tr><tr><td>When The Sun Goes Down (Deluxe Edition)</td><td>the scene</td><td>231107</td><td>False</td><td>-4.0</td><td>a year without rain - fascination club radio edit</td><td>5</td><td>132.0</td></tr><tr><td>Message to the Other Side (Osirus Pt. 1)</td><td>ol' dirty bastard</td><td>150040</td><td>True</td><td>-5.0</td><td>fort green projects</td><td>13</td><td>84.0</td></tr><tr><td>The Voice and Guitar of José Feliciano</td><td>jose feliciano</td><td>276200</td><td>False</td><td>-13.0</td><td>chinita</td><td>8</td><td>89.0</td></tr><tr><td>Early Sides: 1929</td><td>gene autry</td><td>167827</td><td>False</td><td>-13.0</td><td>lullaby yodel</td><td>0</td><td>142.0</td></tr><tr><td>From Me To U</td><td>juelz santana</td><td>164693</td><td>True</td><td>-5.0</td><td>one day i smile</td><td>30</td><td>144.0</td></tr><tr><td>Savages</td><td>breathe carolina</td><td>224006</td><td>False</td><td>-5.0</td><td>collide</td><td>9</td><td>128.0</td></tr><tr><td>A Mary Christmas</td><td>mary j. blige</td><td>259747</td><td>False</td><td>-10.0</td><td>do you hear what i hear?</td><td>0</td><td>80.0</td></tr><tr><td>7…(The Deluxe Edition)</td><td>mint condition</td><td>292253</td><td>False</td><td>-7.0</td><td>twenty years later</td><td>0</td><td>106.0</td></tr><tr><td>Love Songs</td><td>gene autry</td><td>88293</td><td>False</td><td>-13.0</td><td>you belong to my heart</td><td>5</td><td>125.0</td></tr><tr><td>No More Drama</td><td>mary j. blige</td><td>291800</td><td>False</td><td>-10.0</td><td>pms</td><td>24</td><td>142.0</td></tr><tr><td>Definition Of A Band</td><td>mint condition</td><td>281000</td><td>False</td><td>-8.0</td><td>on & on</td><td>24</td><td>114.0</td></tr><tr><td>When The North & South Collide Unloaded</td><td>juelz santana</td><td>70013</td><td>True</td><td>-10.0</td><td>im real</td><td>10</td><td>170.0</td></tr><tr><td>400 Degreez</td><td>juvenile</td><td>285173</td><td>False</td><td>-9.0</td><td>run for it</td><td>10</td><td>95.0</td></tr><tr><td>The Breakthrough</td><td>mary j. blige</td><td>240467</td><td>False</td><td>-4.0</td><td>gonna breakthrough</td><td>30</td><td>101.0</td></tr></tbody></table></div>"
      ]
     },
     "metadata": {
      "application/vnd.databricks.v1+output": {
       "addedWidgets": {},
       "aggData": [],
       "aggError": "",
       "aggOverflow": false,
       "aggSchema": [],
       "aggSeriesLimitReached": false,
       "aggType": "",
       "arguments": {},
       "columnCustomDisplayInfos": {},
       "data": [
        [
         "Elvis for Everyone!",
         "elvis presley",
         "109987",
         "False",
         -10.0,
         "when it rains, it really pours",
         "24",
         83.0
        ],
        [
         "See What You Started By Continuing",
         "collective soul",
         "201573",
         "False",
         -5.0,
         "tradition",
         "18",
         102.0
        ],
        [
         "Elvis In Concert",
         "elvis presley",
         "268733",
         "False",
         -16.0,
         "o sole mio/it's now or never - live",
         "22",
         143.0
        ],
        [
         "Elvis' Christmas Album",
         "elvis presley",
         "125827",
         "False",
         -16.0,
         "i believe",
         "33",
         97.0
        ],
        [
         "Elvis' Gold Records, Vol. 4",
         "elvis presley",
         "142507",
         "False",
         -12.0,
         "witchcraft",
         "27",
         100.0
        ],
        [
         "Performs New Kids On the Block",
         "jordan knight",
         "252520",
         "False",
         -6.0,
         "tonight",
         "5",
         102.0
        ],
        [
         "Sings NKOTB",
         "jordan knight",
         "227027",
         "False",
         -6.0,
         "didn't i (blow your mind)",
         "9",
         138.0
        ],
        [
         "Dwight's Used Records",
         "dwight yoakam",
         "224253",
         "False",
         -4.0,
         "loco motion",
         "18",
         91.0
        ],
        [
         "Girl Happy",
         "elvis presley",
         "115480",
         "False",
         -11.0,
         "the meanest girl in town",
         "19",
         88.0
        ],
        [
         "Something for Everybody",
         "elvis presley",
         "152347",
         "False",
         -14.0,
         "sentimental me",
         "27",
         80.0
        ],
        [
         "Something for Everybody",
         "elvis presley",
         "125040",
         "False",
         -17.0,
         "starting today",
         "22",
         74.0
        ],
        [
         "Spinout",
         "elvis presley",
         "111280",
         "False",
         -8.0,
         "never say yes",
         "15",
         124.0
        ],
        [
         "Cheek To Cheek (Deluxe)",
         "tony bennett",
         "170547",
         "False",
         -8.0,
         "cheek to cheek",
         "18",
         94.0
        ],
        [
         "A Wonderful World",
         "tony bennett",
         "226867",
         "False",
         -14.0,
         "i wonder",
         "21",
         93.0
        ],
        [
         "Among My Souvenirs (More Treasures From The Crosby Archive)",
         "bing crosby",
         "133907",
         "False",
         -20.0,
         "among my souvenirs",
         "13",
         103.0
        ],
        [
         "Savage Life 3",
         "webbie",
         "239053",
         "True",
         -6.0,
         "i been here",
         "25",
         156.0
        ],
        [
         "Boyz N Da Hood",
         "boyz n da hood",
         "264080",
         "False",
         -5.0,
         "p***y m.f.'s",
         "4",
         160.0
        ],
        [
         "Bing Crosby - Christmas Classics",
         "bing crosby",
         "170560",
         "False",
         -15.0,
         "have yourself a merry little christmas - remastered 2006",
         "41",
         93.0
        ],
        [
         "Lost And Found",
         "will smith",
         "225067",
         "False",
         -6.0,
         "switch - main r&b remix",
         "19",
         102.0
        ],
        [
         "Deja la Vida Volar - En Gira (En Vivo)",
         "mercedes",
         "341747",
         "False",
         -14.0,
         "piedra y camino - en vivo",
         "13",
         120.0
        ],
        [
         "Lucerito",
         "mercedes",
         "243267",
         "False",
         -9.0,
         "himno de mi corazón",
         "20",
         94.0
        ],
        [
         "Bing's Gold Records - The Original Decca Recordings",
         "bing crosby",
         "162933",
         "False",
         -13.0,
         "silent night - 1942 single version",
         "1",
         79.0
        ],
        [
         "Crazy Hits",
         "crazy frog",
         "175229",
         "False",
         -5.0,
         "1001 nights",
         "40",
         101.0
        ],
        [
         "Y'all Know What This Is...The Hits",
         "jermaine dupri",
         "231067",
         "True",
         -8.0,
         "pullin' me back",
         "14",
         80.0
        ],
        [
         "Welcome to Jamrock",
         "\"damian \"\"jr. gong\"\" marley\"",
         "329107",
         "False",
         -7.0,
         "confrontation",
         "27",
         111.0
        ],
        [
         "My Home's In Alabama",
         "alabama",
         "135467",
         "False",
         -8.0,
         "hanging up my travelin' shoes",
         "12",
         115.0
        ],
        [
         "My Home's In Alabama",
         "alabama",
         "193600",
         "False",
         -14.0,
         "getting over you",
         "13",
         86.0
        ],
        [
         "Serenata Para La Tierra De Uno",
         "mercedes",
         "191280",
         "False",
         -14.0,
         "pueblos tristes",
         "14",
         112.0
        ],
        [
         "Saturday Live, Vol. 1",
         "hugh laurie",
         "319160",
         "False",
         -19.0,
         "chocolate goodies",
         "16",
         125.0
        ],
        [
         "Franz Ferdinand",
         "franz ferdinand",
         "204267",
         "False",
         -9.0,
         "40'",
         "41",
         104.0
        ],
        [
         "G Pass (Hosted by DJ Show)",
         "jt money",
         "92552",
         "True",
         -15.0,
         "intro (feat. dj show)",
         "0",
         87.0
        ],
        [
         "Tony Makes It Happen!",
         "tony bennett",
         "193693",
         "False",
         -13.0,
         "she's funny that way - 2011 remaster",
         "2",
         96.0
        ],
        [
         "Who Can I Turn To",
         "tony bennett",
         "189627",
         "False",
         -13.0,
         "i've never seen (feat. the ralph sharon trio)",
         "4",
         105.0
        ],
        [
         "Lost At Sea 2",
         "birdman",
         "173293",
         "True",
         -6.0,
         "go harder",
         "36",
         135.0
        ],
        [
         "Sounds of the Universe (Deluxe)",
         "depeche mode",
         "386667",
         "False",
         -7.0,
         "ghost",
         "31",
         107.0
        ],
        [
         "Milk Me",
         "the beatnuts",
         "38667",
         "False",
         -7.0,
         "intro",
         "11",
         100.0
        ],
        [
         "Playing The Angel (U.S. Release)",
         "depeche mode",
         "207733",
         "False",
         -8.0,
         "damaged people",
         "27",
         144.0
        ],
        [
         "That Christmas Feeling",
         "bing crosby",
         "174800",
         "False",
         -15.0,
         "the christmas song",
         "0",
         170.0
        ],
        [
         "Angels Among Us: Hymns & Gospel Favorites",
         "alabama",
         "228453",
         "False",
         -9.0,
         "church in the wildwood",
         "32",
         95.0
        ],
        [
         "The Definitive Collection",
         "bing crosby",
         "176493",
         "False",
         -15.0,
         "around the world (in eighty days) - single version",
         "4",
         82.0
        ],
        [
         "Lost Whispers",
         "evanescence",
         "255721",
         "False",
         -6.0,
         "missing",
         "43",
         175.0
        ],
        [
         "American Christmas",
         "alabama",
         "216587",
         "False",
         -6.0,
         "christmas in dixie - unplugged",
         "14",
         170.0
        ],
        [
         "NATIVE TONGUE",
         "switchfoot",
         "254627",
         "False",
         -6.0,
         "oxygen",
         "40",
         104.0
        ],
        [
         "Nothing Is Sound",
         "switchfoot",
         "208587",
         "False",
         -4.0,
         "politicians",
         "0",
         153.0
        ],
        [
         "Thank God For Friday",
         "neal mccoy",
         "196520",
         "False",
         -17.0,
         "wherever you are",
         "1",
         111.0
        ],
        [
         "Modern Minds and Pastimes (SE Asia Version)",
         "the click five",
         "221933",
         "False",
         -3.0,
         "headlight disco",
         "19",
         122.0
        ],
        [
         "One On One",
         "trick",
         "156053",
         "False",
         -12.0,
         "love's got a hold on me",
         "0",
         148.0
        ],
        [
         "The Notorious Kim",
         "lil' kim",
         "152493",
         "True",
         -4.0,
         "right now (feat. carl thomas)",
         "23",
         112.0
        ],
        [
         "Serie 32: Cristian Castro",
         "cristian castro",
         "247387",
         "False",
         -7.0,
         "mañana",
         "28",
         82.0
        ],
        [
         "Too Cool To Care (Squeaky Clean)",
         "new boyz",
         "234720",
         "False",
         -5.0,
         "i don't care (feat. big sean)",
         "19",
         148.0
        ],
        [
         "Some Mad Hope",
         "matt nathanson",
         "208093",
         "False",
         -4.0,
         "falling apart",
         "29",
         142.0
        ],
        [
         "Some Mad Hope",
         "matt nathanson",
         "269840",
         "False",
         -6.0,
         "sooner surrender",
         "27",
         168.0
        ],
        [
         "Still Waiting For Spring",
         "matt nathanson",
         "224733",
         "False",
         -12.0,
         "loud",
         "21",
         115.0
        ],
        [
         "Priceless",
         "frankie j",
         "259627",
         "False",
         -6.0,
         "never let you down",
         "30",
         135.0
        ],
        [
         "Prince of the South & ATL's Finest (Deluxe Edition)",
         "youngbloodz",
         "267360",
         "True",
         -6.0,
         "the world is mine (feat. lil' flip)",
         "4",
         149.0
        ],
        [
         "Far From Over",
         "edwin mccain",
         "277627",
         "False",
         -6.0,
         "i've seen a love",
         "17",
         156.0
        ],
        [
         "Hypnotize",
         "system of a down",
         "220267",
         "False",
         -2.0,
         "soldier side",
         "30",
         153.0
        ],
        [
         "Glitch",
         "roscoe dash",
         "206263",
         "False",
         -6.0,
         "whassup (nye) [feat. waka flocka]",
         "13",
         142.0
        ],
        [
         "Da Baddest B***h",
         "trina",
         "194493",
         "True",
         -7.0,
         "if u with me (feat. mystic of the lost tribe)",
         "21",
         110.0
        ],
        [
         "Fallen Empires",
         "snow patrol",
         "297682",
         "False",
         -6.0,
         "this isn't everything you are",
         "47",
         89.0
        ],
        [
         "For Unlawful Carnal Knowledge",
         "van halen",
         "303867",
         "False",
         -8.0,
         "man on a mission",
         "24",
         96.0
        ],
        [
         "Live in the Windy City (Live 1989)",
         "melissa etheridge",
         "981408",
         "False",
         -13.0,
         "let's get it on / like the way i do",
         "10",
         106.0
        ],
        [
         "Circles",
         "p.o.d.",
         "241813",
         "False",
         -5.0,
         "home",
         "32",
         140.0
        ],
        [
         "Satellite (U.S. Version WEA Distribution)",
         "p.o.d.",
         "256240",
         "False",
         -8.0,
         "youth of the nation",
         "72",
         98.0
        ],
        [
         "Testify",
         "p.o.d.",
         "282627",
         "False",
         -4.0,
         "roots in stereo",
         "34",
         163.0
        ],
        [
         "Vexillology",
         "deadmau5",
         "450000",
         "False",
         -10.0,
         "plus - original mix",
         "19",
         128.0
        ],
        [
         "where's the drop?",
         "deadmau5",
         "472000",
         "False",
         -10.0,
         "coelacanth - ov",
         "36",
         67.0
        ],
        [
         "One Hell Of A Ride",
         "willie nelson",
         "163707",
         "False",
         -12.0,
         "it should be easier now",
         "7",
         76.0
        ],
        [
         "Setlist: The Very Of Willie Nelson LIVE",
         "willie nelson",
         "108040",
         "False",
         -11.0,
         "crazy - live at harrah's casino, lake tahoe, nv - april 1978",
         "5",
         73.0
        ],
        [
         "Reckless",
         "martina mcbride",
         "253933",
         "False",
         -7.0,
         "we'll pick up where we left off",
         "18",
         82.0
        ],
        [
         "Breathless",
         "kenny g",
         "300467",
         "False",
         -16.0,
         "in the rain",
         "45",
         120.0
        ],
        [
         "Texas In My Soul",
         "willie nelson",
         "150440",
         "False",
         -9.0,
         "san antonio",
         "13",
         111.0
        ],
        [
         "The Early Years",
         "willie nelson",
         "147173",
         "False",
         -13.0,
         "half a man",
         "10",
         75.0
        ],
        [
         "Namaste",
         "kenny g",
         "329520",
         "False",
         -8.0,
         "brhama-vishnu-shiva",
         "24",
         144.0
        ],
        [
         "The Party's Over",
         "willie nelson",
         "131787",
         "False",
         -8.0,
         "a moment isn't very long",
         "9",
         120.0
        ],
        [
         "Fireworks",
         "jose feliciano",
         "271467",
         "False",
         -14.0,
         "norwegian wood - instrumental",
         "2",
         109.0
        ],
        [
         "The Essential Kenny G 3.0",
         "kenny g",
         "233787",
         "False",
         -11.0,
         "it had to be you",
         "21",
         120.0
        ],
        [
         "Shine",
         "estelle",
         "220827",
         "False",
         -16.0,
         "come over - cry tuff council remix",
         "14",
         164.0
        ],
        [
         "Ultimate Kenny G",
         "kenny g",
         "261453",
         "False",
         -6.0,
         "\"my heart will go on (love theme from \"\"titanic\"\")\"",
         "29",
         106.0
        ],
        [
         "Live at the Troubadour Festival 1995",
         "jose feliciano",
         "343547",
         "False",
         -14.0,
         "just the two of us",
         "13",
         97.0
        ],
        [
         "My Name Is José Feliciano",
         "jose feliciano",
         "226773",
         "False",
         -12.0,
         "daytime dreams",
         "2",
         80.0
        ],
        [
         "Me Enamore",
         "jose feliciano",
         "268507",
         "False",
         -13.0,
         "el condor pasa",
         "7",
         126.0
        ],
        [
         "Ladies And Gentlemen",
         "lou bega",
         "210933",
         "False",
         -6.0,
         "you are my sunshine",
         "0",
         123.0
        ],
        [
         "Yesterday's Wine",
         "willie nelson",
         "136960",
         "False",
         -17.0,
         "december day",
         "15",
         153.0
        ],
        [
         "Home of the Strange",
         "young the giant",
         "220813",
         "False",
         -4.0,
         "jungle youth",
         "46",
         156.0
        ],
        [
         "When The Sun Goes Down (Deluxe Edition)",
         "the scene",
         "194707",
         "False",
         -4.0,
         "dices (who says - spanish version)",
         "9",
         101.0
        ],
        [
         "When The Sun Goes Down (Deluxe Edition)",
         "the scene",
         "231107",
         "False",
         -4.0,
         "a year without rain - fascination club radio edit",
         "5",
         132.0
        ],
        [
         "Message to the Other Side (Osirus Pt. 1)",
         "ol' dirty bastard",
         "150040",
         "True",
         -5.0,
         "fort green projects",
         "13",
         84.0
        ],
        [
         "The Voice and Guitar of José Feliciano",
         "jose feliciano",
         "276200",
         "False",
         -13.0,
         "chinita",
         "8",
         89.0
        ],
        [
         "Early Sides: 1929",
         "gene autry",
         "167827",
         "False",
         -13.0,
         "lullaby yodel",
         "0",
         142.0
        ],
        [
         "From Me To U",
         "juelz santana",
         "164693",
         "True",
         -5.0,
         "one day i smile",
         "30",
         144.0
        ],
        [
         "Savages",
         "breathe carolina",
         "224006",
         "False",
         -5.0,
         "collide",
         "9",
         128.0
        ],
        [
         "A Mary Christmas",
         "mary j. blige",
         "259747",
         "False",
         -10.0,
         "do you hear what i hear?",
         "0",
         80.0
        ],
        [
         "7…(The Deluxe Edition)",
         "mint condition",
         "292253",
         "False",
         -7.0,
         "twenty years later",
         "0",
         106.0
        ],
        [
         "Love Songs",
         "gene autry",
         "88293",
         "False",
         -13.0,
         "you belong to my heart",
         "5",
         125.0
        ],
        [
         "No More Drama",
         "mary j. blige",
         "291800",
         "False",
         -10.0,
         "pms",
         "24",
         142.0
        ],
        [
         "Definition Of A Band",
         "mint condition",
         "281000",
         "False",
         -8.0,
         "on & on",
         "24",
         114.0
        ],
        [
         "When The North & South Collide Unloaded",
         "juelz santana",
         "70013",
         "True",
         -10.0,
         "im real",
         "10",
         170.0
        ],
        [
         "400 Degreez",
         "juvenile",
         "285173",
         "False",
         -9.0,
         "run for it",
         "10",
         95.0
        ],
        [
         "The Breakthrough",
         "mary j. blige",
         "240467",
         "False",
         -4.0,
         "gonna breakthrough",
         "30",
         101.0
        ]
       ],
       "datasetInfos": [],
       "dbfsResultPath": null,
       "isJsonSchema": true,
       "metadata": {},
       "overflow": false,
       "plotOptions": {
        "customPlotOptions": {},
        "displayType": "table",
        "pivotAggregation": null,
        "pivotColumns": null,
        "xColumns": null,
        "yColumns": null
       },
       "removedWidgets": [],
       "schema": [
        {
         "metadata": "{}",
         "name": "song_Album",
         "type": "\"string\""
        },
        {
         "metadata": "{}",
         "name": "song_Artist",
         "type": "\"string\""
        },
        {
         "metadata": "{}",
         "name": "song_Duration",
         "type": "\"string\""
        },
        {
         "metadata": "{}",
         "name": "song_Explicit",
         "type": "\"string\""
        },
        {
         "metadata": "{}",
         "name": "song_Loudness",
         "type": "\"float\""
        },
        {
         "metadata": "{}",
         "name": "song_Name",
         "type": "\"string\""
        },
        {
         "metadata": "{}",
         "name": "song_Popularity",
         "type": "\"string\""
        },
        {
         "metadata": "{}",
         "name": "song_Tempo",
         "type": "\"float\""
        }
       ],
       "type": "table"
      }
     },
     "output_type": "display_data"
    }
   ],
   "source": [
    "spark.sql(\"\"\"\n",
    "SELECT *\n",
    "FROM songAttributes\n",
    "LIMIT 100\n",
    "\"\"\").display()"
   ]
  },
  {
   "cell_type": "code",
   "execution_count": 0,
   "metadata": {
    "application/vnd.databricks.v1+cell": {
     "cellMetadata": {
      "byteLimit": 2048000,
      "rowLimit": 10000
     },
     "inputWidgets": {},
     "nuid": "0922644b-1908-4311-b74c-94ed40dd52dd",
     "showTitle": false,
     "title": ""
    }
   },
   "outputs": [
    {
     "output_type": "display_data",
     "data": {
      "text/html": [
       "<style scoped>\n  .table-result-container {\n    max-height: 300px;\n    overflow: auto;\n  }\n  table, th, td {\n    border: 1px solid black;\n    border-collapse: collapse;\n  }\n  th, td {\n    padding: 5px;\n  }\n  th {\n    text-align: left;\n  }\n</style><div class='table-result-container'><table class='table-result'><thead style='background-color: white'><tr><th>spot_Name</th><th>spot_Artist</th><th>spot_Features</th><th>spot_Streams</th><th>spot_Week</th></tr></thead><tbody><tr><td>rise</td><td>jonas blue</td><td>null</td><td>3140668</td><td>null</td></tr><tr><td>love. feat. zacari.</td><td>kendrick lamar</td><td>null</td><td>1656220</td><td>null</td></tr><tr><td>idgaf</td><td>dua lipa</td><td>null</td><td>1545674</td><td>null</td></tr><tr><td>8teen</td><td>khalid</td><td>null</td><td>1329710</td><td>null</td></tr><tr><td>dive</td><td>ed sheeran</td><td>null</td><td>5859292</td><td>null</td></tr><tr><td>treat you better</td><td>shawn mendes</td><td>null</td><td>1392151</td><td>null</td></tr><tr><td>zack and codeine</td><td>post malone</td><td>null</td><td>3841637</td><td>null</td></tr><tr><td>look back at it</td><td>a boogie wit da hoodie</td><td>null</td><td>4039101</td><td>null</td></tr><tr><td>right back</td><td>khalid</td><td>null</td><td>3945373</td><td>null</td></tr><tr><td>i'm so tired...</td><td>lauv</td><td>null</td><td>2969044</td><td>null</td></tr></tbody></table></div>"
      ]
     },
     "metadata": {
      "application/vnd.databricks.v1+output": {
       "addedWidgets": {},
       "aggData": [],
       "aggError": "",
       "aggOverflow": false,
       "aggSchema": [],
       "aggSeriesLimitReached": false,
       "aggType": "",
       "arguments": {},
       "columnCustomDisplayInfos": {},
       "data": [
        [
         "rise",
         "jonas blue",
         null,
         "3140668",
         null
        ],
        [
         "love. feat. zacari.",
         "kendrick lamar",
         null,
         "1656220",
         null
        ],
        [
         "idgaf",
         "dua lipa",
         null,
         "1545674",
         null
        ],
        [
         "8teen",
         "khalid",
         null,
         "1329710",
         null
        ],
        [
         "dive",
         "ed sheeran",
         null,
         "5859292",
         null
        ],
        [
         "treat you better",
         "shawn mendes",
         null,
         "1392151",
         null
        ],
        [
         "zack and codeine",
         "post malone",
         null,
         "3841637",
         null
        ],
        [
         "look back at it",
         "a boogie wit da hoodie",
         null,
         "4039101",
         null
        ],
        [
         "right back",
         "khalid",
         null,
         "3945373",
         null
        ],
        [
         "i'm so tired...",
         "lauv",
         null,
         "2969044",
         null
        ]
       ],
       "datasetInfos": [],
       "dbfsResultPath": null,
       "isJsonSchema": true,
       "metadata": {},
       "overflow": false,
       "plotOptions": {
        "customPlotOptions": {},
        "displayType": "table",
        "pivotAggregation": null,
        "pivotColumns": null,
        "xColumns": null,
        "yColumns": null
       },
       "removedWidgets": [],
       "schema": [
        {
         "metadata": "{}",
         "name": "spot_Name",
         "type": "\"string\""
        },
        {
         "metadata": "{}",
         "name": "spot_Artist",
         "type": "\"string\""
        },
        {
         "metadata": "{}",
         "name": "spot_Features",
         "type": "\"string\""
        },
        {
         "metadata": "{}",
         "name": "spot_Streams",
         "type": "\"string\""
        },
        {
         "metadata": "{}",
         "name": "spot_Week",
         "type": "\"date\""
        }
       ],
       "type": "table"
      }
     },
     "output_type": "display_data"
    }
   ],
   "source": [
    "spark.sql(\"\"\"\n",
    "SELECT *\n",
    "FROM spotifyWeeklyTop200\n",
    "LIMIT 10\n",
    "\"\"\").display()"
   ]
  },
  {
   "cell_type": "code",
   "execution_count": 0,
   "metadata": {
    "application/vnd.databricks.v1+cell": {
     "cellMetadata": {
      "byteLimit": 2048000,
      "rowLimit": 10000
     },
     "inputWidgets": {},
     "nuid": "1cf24f4f-06d5-4266-aa8c-5501641cf0a1",
     "showTitle": false,
     "title": ""
    }
   },
   "outputs": [],
   "source": [
    "billboardTablon1 = spark.sql(\"\"\"\n",
    "SELECT\n",
    "hot_Artist,\n",
    "hot_Name,\n",
    "hot_PeakPosition,\n",
    "hot_WeeksOnChart,\n",
    "song_Loudness,\n",
    "song_Explicit,\n",
    "grams_GrammyAward,\n",
    "grams_GrammyYear,\n",
    "riaaS_RiaaStatus,\n",
    "riaaS_Label,\n",
    "spot_Features,\n",
    "spot_Streams,\n",
    "spot_Week\n",
    "FROM Hot100\n",
    "LEFT JOIN songAttributes\n",
    "ON hot_Name = song_Name\n",
    "LEFT JOIN grammySongs\n",
    "ON song_Name = grams_Name\n",
    "LEFT JOIN riaaSingleCerts\n",
    "ON grams_Name = riaaS_Name\n",
    "LEFT JOIN spotifyWeeklyTop200\n",
    "ON riaaS_Name = spot_Name\n",
    "\"\"\")"
   ]
  },
  {
   "cell_type": "code",
   "execution_count": 0,
   "metadata": {
    "application/vnd.databricks.v1+cell": {
     "cellMetadata": {
      "byteLimit": 2048000,
      "rowLimit": 10000
     },
     "inputWidgets": {},
     "nuid": "2b059c4e-2ebe-406a-80d1-d82db65ffbb7",
     "showTitle": false,
     "title": ""
    }
   },
   "outputs": [],
   "source": [
    "billboardTablon2 = spark.sql(\"\"\"\n",
    "SELECT\n",
    "ar_Artist,\n",
    "ar_GroupOrSolo,\n",
    "ar_Gender,\n",
    "ar_YearFirstAlbum,\n",
    "ar_Followers,\n",
    "ar_Genre,\n",
    "riaaA_Album,\n",
    "riaaA_Status,\n",
    "grama_Album,\n",
    "grama_GrammyYear,\n",
    "grama_Award\n",
    "FROM artistDF\n",
    "LEFT JOIN riaaAlbumCerts\n",
    "ON ar_Artist = riaaA_Artist\n",
    "LEFT JOIN grammyAlbums\n",
    "ON riaaA_Artist = grama_Artist\n",
    "\"\"\")"
   ]
  },
  {
   "cell_type": "code",
   "execution_count": 0,
   "metadata": {
    "application/vnd.databricks.v1+cell": {
     "cellMetadata": {},
     "inputWidgets": {},
     "nuid": "9521a196-8e11-4c00-9163-c463ce4a4b37",
     "showTitle": false,
     "title": ""
    }
   },
   "outputs": [],
   "source": [
    "%run \"./conexion2\""
   ]
  },
  {
   "cell_type": "code",
   "execution_count": 0,
   "metadata": {
    "application/vnd.databricks.v1+cell": {
     "cellMetadata": {
      "byteLimit": 2048000,
      "rowLimit": 10000
     },
     "inputWidgets": {},
     "nuid": "4722c1ed-e44e-4b30-ba6c-baf011c209d0",
     "showTitle": false,
     "title": ""
    }
   },
   "outputs": [],
   "source": [
    "jdbcUrl= f\"jdbc:sqlserver://{jdbcHostname}:{jdbcPort};databaseName={jdbcDatabase};user={jdbcUsername};password={jdbcPassword}\""
   ]
  },
  {
   "cell_type": "code",
   "execution_count": 0,
   "metadata": {
    "application/vnd.databricks.v1+cell": {
     "cellMetadata": {
      "byteLimit": 2048000,
      "rowLimit": 10000
     },
     "inputWidgets": {},
     "nuid": "d0cde1ea-4679-45f8-be3b-6bcb34259117",
     "showTitle": false,
     "title": ""
    }
   },
   "outputs": [],
   "source": [
    "billboardTablon1.write.mode('overwrite').format('jdbc').option('driver', jdbcDriver).option('url', jdbcUrl).option('dbtable', 'billboardTablonGer1').save()"
   ]
  },
  {
   "cell_type": "code",
   "execution_count": 0,
   "metadata": {
    "application/vnd.databricks.v1+cell": {
     "cellMetadata": {
      "byteLimit": 2048000,
      "rowLimit": 10000
     },
     "inputWidgets": {},
     "nuid": "a51b4606-aab9-4aa3-92c6-09b0fa3c33d8",
     "showTitle": false,
     "title": ""
    }
   },
   "outputs": [],
   "source": [
    "billboardTablon2.write.mode('overwrite').format('jdbc').option('driver', jdbcDriver).option('url', jdbcUrl).option('dbtable', 'billboardTablonGer2').save()"
   ]
  },
  {
   "cell_type": "markdown",
   "metadata": {
    "application/vnd.databricks.v1+cell": {
     "cellMetadata": {
      "byteLimit": 2048000,
      "rowLimit": 10000
     },
     "inputWidgets": {},
     "nuid": "ac911c3d-30c7-4f4a-a4a3-9a096d2f3d1d",
     "showTitle": false,
     "title": ""
    }
   },
   "source": [
    "SALIDA DE NOTEBOOK"
   ]
  },
  {
   "cell_type": "code",
   "execution_count": 0,
   "metadata": {
    "application/vnd.databricks.v1+cell": {
     "cellMetadata": {
      "byteLimit": 2048000,
      "rowLimit": 10000
     },
     "inputWidgets": {},
     "nuid": "3e2a5eb3-2026-48c8-b0dd-24d429b443ce",
     "showTitle": false,
     "title": ""
    }
   },
   "outputs": [
    {
     "output_type": "display_data",
     "data": {
      "text/plain": [
       "Todo ok"
      ]
     },
     "metadata": {
      "application/vnd.databricks.v1+output": {
       "arguments": {},
       "data": "Todo ok",
       "metadata": {},
       "type": "exit"
      }
     },
     "output_type": "display_data"
    }
   ],
   "source": [
    "dbutils.notebook.exit(\"Todo ok\")"
   ]
  }
 ],
 "metadata": {
  "application/vnd.databricks.v1+notebook": {
   "dashboards": [],
   "language": "python",
   "notebookMetadata": {
    "pythonIndentUnit": 4
   },
   "notebookName": "Billboard_trusted_joins",
   "notebookOrigID": 4464203759809128,
   "widgets": {}
  }
 },
 "nbformat": 4,
 "nbformat_minor": 0
}
